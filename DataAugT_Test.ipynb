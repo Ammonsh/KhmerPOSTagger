{
  "nbformat": 4,
  "nbformat_minor": 0,
  "metadata": {
    "colab": {
      "name": "DataAugT-Test.ipynb",
      "provenance": []
    },
    "kernelspec": {
      "name": "python3",
      "display_name": "Python 3"
    },
    "language_info": {
      "name": "python"
    }
  },
  "cells": [
    {
      "cell_type": "code",
      "source": [
        "import numpy as np\n",
        "import scipy.stats as stats"
      ],
      "metadata": {
        "id": "xBLkTglEQPJ3"
      },
      "execution_count": null,
      "outputs": []
    },
    {
      "cell_type": "code",
      "source": [
        "norm_scores = np.array([0.9474, 0.9421, 0.946, 0.9446, 0.9494, 0.9444, 0.942, \n",
        "                        0.9451, 0.944, 0.9511, 0.9456, 0.9517, 0.9459, 0.9472, \n",
        "                        0.9512, 0.9512, 0.9437, 0.9435, 0.9491, 0.9447, 0.9448, \n",
        "                        0.9408, 0.9459, 0.9401, 0.945])\n",
        "aug_scores = np.array([0.9532, 0.9533, 0.9523, 0.9536, 0.9527, 0.9562, 0.9492, \n",
        "                       0.9525, 0.954, 0.953, 0.9517, 0.9551, 0.9494, 0.954, \n",
        "                       0.9535, 0.9525, 0.9511, 0.953, 0.9523, 0.9533, 0.9512, \n",
        "                       0.9527, 0.9552, 0.9524, 0.952])"
      ],
      "metadata": {
        "id": "jLNgLSSYVU--"
      },
      "execution_count": null,
      "outputs": []
    },
    {
      "cell_type": "code",
      "source": [
        "m = np.mean(np.abs(norm_scores - aug_scores))\n",
        "print(m)\n",
        "print(stats.ttest_ind(a=norm_scores, b=aug_scores, equal_var=True))"
      ],
      "metadata": {
        "colab": {
          "base_uri": "https://localhost:8080/"
        },
        "id": "l1RlBFxkWkMR",
        "outputId": "7f95d11c-31b2-4e59-a65a-d9fa08f6c85f"
      },
      "execution_count": null,
      "outputs": [
        {
          "output_type": "stream",
          "name": "stdout",
          "text": [
            "0.006916000000000006\n",
            "0.9562\n",
            "Ttest_indResult(statistic=-9.546114234032062, pvalue=1.1331616535095065e-12)\n"
          ]
        }
      ]
    },
    {
      "cell_type": "code",
      "source": [
        ""
      ],
      "metadata": {
        "id": "BGVEfNPho1FU"
      },
      "execution_count": null,
      "outputs": []
    }
  ]
}